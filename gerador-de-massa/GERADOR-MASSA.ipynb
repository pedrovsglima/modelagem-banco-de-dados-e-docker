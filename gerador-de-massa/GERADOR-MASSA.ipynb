{
 "cells": [
  {
   "cell_type": "markdown",
   "source": "# TABELAS DE DOMINIO",
   "metadata": {
    "collapsed": false,
    "cell_id": "00001-d954e90f-6e79-45a5-bcf9-8034993e8db1",
    "deepnote_cell_type": "markdown",
    "deepnote_cell_height": 82
   }
  },
  {
   "cell_type": "code",
   "metadata": {
    "collapsed": true,
    "cell_id": "00002-ebf0f5b5-56ef-4cea-835c-0404d5765e40",
    "deepnote_cell_type": "code",
    "deepnote_cell_height": 228
   },
   "source": "# CREATE TXT FILE WITH ALL INSERTS COMMANDS FOR STATUS_ALUNO\nwith open(\"INSERTS_FACULDADE_DOMINIOS/STATUS_ALUNO.sql\", \"w\", encoding=\"utf-8\") as f:\n    # CREATE INSERT INTO STATUS_ALUNO\n    ID_STATUS_LIST = [1,2,3,4]\n    DESCRICAO_STATUS_LIST = [\"Cursando\", \"Trancado\", \"Formado\", \"Jubilado\"]\n    for i in range(len(ID_STATUS_LIST)):\n        ID_STATUS = ID_STATUS_LIST[i]\n        DESCRICAO_STATUS = DESCRICAO_STATUS_LIST[i]\n        sql = f'INSERT INTO STATUS_ALUNO (ID_STATUS, DESCRICAO_STATUS) VALUES ({ID_STATUS}, \"{DESCRICAO_STATUS}\")'\n        f.write(sql + \";\" + \"\\n\")",
   "execution_count": null,
   "outputs": []
  },
  {
   "cell_type": "code",
   "metadata": {
    "collapsed": false,
    "pycharm": {
     "name": "#%%\n"
    },
    "cell_id": "00003-9869f0ba-b1e4-4c97-8c60-dbf2ece75da7",
    "deepnote_cell_type": "code",
    "deepnote_cell_height": 210
   },
   "source": "# CREATE TXT FILE WITH ALL INSERTS COMMANDS FOR STATUS_FUNCIONARIO\nwith open(\"INSERTS_FACULDADE_DOMINIOS/STATUS_FUNCIONARIO.sql\", \"w\", encoding=\"utf-8\") as f:\n    ID_STATUS_LIST = [1,2,3,4]\n    DESCRICAO_STATUS_LIST = [\"Ativo\", \"Desligado\", \"Férias\", \"Afastado\"]\n    for i in range(len(ID_STATUS_LIST)):\n        ID_STATUS = ID_STATUS_LIST[i]\n        DESCRICAO_STATUS = DESCRICAO_STATUS_LIST[i]\n        sql = f'INSERT INTO STATUS_FUNCIONARIO (ID_STATUS, DESCRICAO_STATUS) VALUES ({ID_STATUS}, \"{DESCRICAO_STATUS}\")'\n        f.write(sql + \";\" + \"\\n\")",
   "execution_count": null,
   "outputs": []
  },
  {
   "cell_type": "code",
   "metadata": {
    "collapsed": false,
    "pycharm": {
     "name": "#%%\n"
    },
    "cell_id": "00004-66a34f3f-0618-429e-a67a-f173aea884a3",
    "deepnote_cell_type": "code",
    "deepnote_cell_height": 210
   },
   "source": "# CREATE TXT FILE WITH ALL INSERTS COMMANDS FOR TITULACAO\nwith open(\"INSERTS_FACULDADE_DOMINIOS/TITULACAO.sql\", \"w\", encoding=\"utf-8\") as f:\n    ID_TITULACAO_LIST = [1, 2, 3, 4]\n    DESCRICAO_TITULACAO_LIST = [\"Graduado\", \"Especialista\", \"Mestre\", \"Doutor\"]\n    for i in range(len(ID_TITULACAO_LIST)):\n        ID_TITULACAO = ID_TITULACAO_LIST[i]\n        DESCRICAO_TITULACAO = DESCRICAO_TITULACAO_LIST[i]\n        sql = f'INSERT INTO TITULACAO (ID_TITULACAO, DESCRICAO_TITULACAO) VALUES ({ID_TITULACAO}, \"{DESCRICAO_TITULACAO}\")'\n        f.write(sql + \";\" + \"\\n\")",
   "execution_count": null,
   "outputs": []
  },
  {
   "cell_type": "code",
   "metadata": {
    "collapsed": false,
    "pycharm": {
     "name": "#%%\n"
    },
    "cell_id": "00005-b0fa67ba-27e0-42bf-8408-bb0d4e6fbdd9",
    "deepnote_cell_type": "code",
    "deepnote_cell_height": 210
   },
   "source": "# CREATE TXT FILE WITH ALL INSERTS COMMANDS FOR SETOR\nwith open(\"INSERTS_FACULDADE_DOMINIOS/SETOR.sql\", \"w\", encoding=\"utf-8\") as f:\n    ID_SETOR_LIST = [1, 2, 3, 4]\n    DESCRICAO_SETOR_LIST = [\"Secretariado\", \"Coordenação\", \"Biblioteca\", \"Facilities\"]\n    for i in range(len(ID_SETOR_LIST)):\n        ID_SETOR = ID_SETOR_LIST[i]\n        DESCRICAO_SETOR = DESCRICAO_SETOR_LIST[i]\n        sql = f'INSERT INTO SETOR (ID_SETOR, DESCRICAO_SETOR) VALUES ({ID_SETOR}, \"{DESCRICAO_SETOR}\")'\n        f.write(sql + \";\" + \"\\n\")",
   "execution_count": null,
   "outputs": []
  },
  {
   "cell_type": "code",
   "metadata": {
    "collapsed": false,
    "pycharm": {
     "name": "#%%\n"
    },
    "cell_id": "00006-fd4094b7-deb2-47f2-b2ca-2ce2e4a21e18",
    "deepnote_cell_type": "code",
    "deepnote_cell_height": 210
   },
   "source": "# CREATE TXT FILE WITH ALL INSERTS COMMANDS FOR TURNO\nwith open(\"INSERTS_FACULDADE_DOMINIOS/TURNO.sql\", \"w\", encoding=\"utf-8\") as f:\n    ID_TURNO_LIST = [1, 2, 3, 4]\n    DESCRICAO_TURNO_LIST = [\"Matutino\", \"Vespertino\", \"Noturno\", \"Integral\"]\n    for i in range(len(ID_TURNO_LIST)):\n        ID_TURNO = ID_TURNO_LIST[i]\n        DESCRICAO_TURNO = DESCRICAO_TURNO_LIST[i]\n        sql = f'INSERT INTO TURNO (ID_TURNO, DESCRICAO_TURNO) VALUES ({ID_TURNO}, \"{DESCRICAO_TURNO}\")'\n        f.write(sql + \";\" + \"\\n\")",
   "execution_count": null,
   "outputs": []
  },
  {
   "cell_type": "code",
   "metadata": {
    "collapsed": false,
    "pycharm": {
     "name": "#%%\n"
    },
    "cell_id": "00007-e9d50355-6c19-45af-b917-ecb8db637476",
    "deepnote_cell_type": "code",
    "deepnote_cell_height": 210
   },
   "source": "# CREATE TXT FILE WITH ALL INSERTS COMMANDS FOR TIPO_AVALIACAO\nwith open(\"INSERTS_FACULDADE_DOMINIOS/TIPO_AVALIACAO.sql\", \"w\", encoding=\"utf-8\") as f:\n    ID_TIPO_AVALIACAO_LIST = [1, 2, 3, 4, 5]\n    DESCRICAO_TIPO_AVALIACAO_LIST = [\"Prova 1\", \"Prova 2\", \"Prova 3\", \"Prova de Recuperação\", \"Prova de Final\"]\n    for i in range(len(ID_TIPO_AVALIACAO_LIST)):\n        ID_TIPO_AVALIACAO = ID_TIPO_AVALIACAO_LIST[i]\n        DESCRICAO_TIPO_AVALIACAO = DESCRICAO_TIPO_AVALIACAO_LIST[i]\n        sql = f'INSERT INTO TIPO_AVALIACAO (ID_TIPO_AVALIACAO, DESCRICAO_TIPO_AVALIACAO) VALUES ({ID_TIPO_AVALIACAO}, \"{DESCRICAO_TIPO_AVALIACAO}\")'\n        f.write(sql + \";\" + \"\\n\")",
   "execution_count": null,
   "outputs": []
  },
  {
   "cell_type": "markdown",
   "source": "# GERADORES DE MASSA DE DADOS",
   "metadata": {
    "collapsed": false,
    "cell_id": "00008-e67b8568-3a31-463c-955d-589e7cc22ca0",
    "deepnote_cell_type": "markdown",
    "deepnote_cell_height": 82
   }
  },
  {
   "cell_type": "markdown",
   "source": "### DISCIPLINA/CURSO/DEPARTAMENTO",
   "metadata": {
    "cell_id": "a13565323ee24229adea0b7cbbf6d92e",
    "tags": [],
    "owner_user_id": "d97945ae-e013-4dbd-b49c-dfb8ac89d7cb",
    "deepnote_cell_type": "markdown",
    "deepnote_cell_height": 70
   }
  },
  {
   "cell_type": "code",
   "metadata": {
    "collapsed": false,
    "pycharm": {
     "name": "#%%\n"
    },
    "cell_id": "00010-28cbd86e-02d3-4683-af13-8053054376e3",
    "deepnote_cell_type": "code",
    "deepnote_cell_height": 1074
   },
   "source": "# CREATE TXT FILE WITH ALL INSERTS COMMANDS FOR DEPARTAMENTO\nwith open(\"INSERTS_FACULDADE_DOMINIOS/DEPARTAMENTO.sql\", \"w\", encoding=\"utf-8\") as f:\n    ID_DEPARTAMENTO_LIST = [1, 2, 3, 4, 5, 6]\n    DESCRICAO_DEPARTAMENTO_LIST = [\"DADOS\", \"EXATAS\", \"BIOLOGICAS\", \"HUMANAS E SOCIAIS\", \"ARTES\", \"LINGUAS\"]\n    for i in range(len(ID_DEPARTAMENTO_LIST)):\n        ID_DEPARTAMENTO = ID_DEPARTAMENTO_LIST[i]\n        DESCRICAO_DEPARTAMENTO = DESCRICAO_DEPARTAMENTO_LIST[i]\n        sql = f'INSERT INTO DEPARTAMENTO (ID_DEPARTAMENTO, DESCRICAO_DEPARTAMENTO) VALUES ({ID_DEPARTAMENTO}, \"{DESCRICAO_DEPARTAMENTO}\")'\n        f.write(sql + \";\" + \"\\n\")\n\n# CREATE TXT FILE WITH ALL INSERTS COMMANDS FOR CURSO.\n# CURSO IS ASSOCIATED WITH DEPARTAMENTO\nDESCRICAO_CURSO_GRADUACAO_LIST = [\"Engenharia de Dados\", \"Ciência de Dados\", \"Análise de Dados\", \"Engenharias de Machine Learning\",\n                                \"Estatística\", \"Matemática\", \"Física\", \"Química\",\n                                \"Biologia\", \"Medicina\", \"Enfermagem\", \"Fisioterapia\",\n                                \"Filosofia\", \"Administração\", \"Sociologia\", \"Pedagogia\",\n                                \"Artes Cênicas\", \"Música\", \"Turismo\", \"Artes Visuais\",\n                                \"Português\", \"Linguas Estrangeiras\", \"Linguas Clássicas\", \"Filologia\"]\n\nID_CURSO_GRADUACAO = 0\nwith open(\"INSERTS_FACULDADE_DOMINIOS/CURSO_GRADUACAO.sql\", \"w\", encoding=\"utf-8\") as f:\n    for i in range(len(ID_DEPARTAMENTO_LIST)):\n        for j in range(4):\n            ID_DEPARTAMENTO = ID_DEPARTAMENTO_LIST[i]\n            DESCRICAO_CURSO_GRADUACAO = DESCRICAO_CURSO_GRADUACAO_LIST[ID_CURSO_GRADUACAO]\n            ID_CURSO_GRADUACAO += 1\n            sql = f'INSERT INTO CURSO_GRADUACAO (ID_CURSO_GRADUACAO, ID_DEPARTAMENTO, DESCRICAO_CURSO_GRADUACAO) VALUES ({ID_CURSO_GRADUACAO}, {ID_DEPARTAMENTO}, \"{DESCRICAO_CURSO_GRADUACAO}\")'\n            f.write(sql + \";\" + \"\\n\")\n\n# CREATE TXT FILE WITH ALL INSERTS COMMANDS FOR DISCIPLINA.\n# CURSO IS ASSOCIATED WITH CURSO\nimport random\nn_disciplinas = 12\nCARGA_HORARIA_DISCIPLINA_RND_LIST = [30, 60, 90, 120]\nPRETEXTUAL_DISCIPLINA_RND_LIST = [\"Introdução a\", \"Tópicos em\", \"Conceitos de\", \"Projeto de\"]\nPOSTEXTUAL_DISCIPLINA_RND_LIST = [\"Prática\", \"Teórica\", \"Avançada\", \"Básica\"]\n\nID_DISCIPLINA = 0\nwith open(\"INSERTS_FACULDADE_DOMINIOS/DISCIPLINA.sql\", \"w\", encoding=\"utf-8\") as f:\n    for i in range(len(DESCRICAO_CURSO_GRADUACAO_LIST)):\n        ID_CURSO_GRADUACAO = i + 1\n        dict_disciplinas = {}\n        for j in range(n_disciplinas):\n            ID_DISCIPLINA += 1\n            CARGA_HORARIA_DISCIPLINA = random.choice(CARGA_HORARIA_DISCIPLINA_RND_LIST)\n            PRETEXTUAL_DISCIPLINA = random.choice(PRETEXTUAL_DISCIPLINA_RND_LIST)\n            POSTEXTUAL_DISCIPLINA = random.choice(POSTEXTUAL_DISCIPLINA_RND_LIST)\n            DESCRICAO_DISCIPLINA = f\"{PRETEXTUAL_DISCIPLINA} {DESCRICAO_CURSO_GRADUACAO_LIST[i]} {POSTEXTUAL_DISCIPLINA}\"\n            if DESCRICAO_DISCIPLINA not in dict_disciplinas:\n                dict_disciplinas[DESCRICAO_DISCIPLINA] = 1\n            else:\n                aparicoes = dict_disciplinas[DESCRICAO_DISCIPLINA]\n                aparicoes += 1\n                DESCRICAO_DISCIPLINA = DESCRICAO_DISCIPLINA + \" \" + str(aparicoes)\n                dict_disciplinas[DESCRICAO_DISCIPLINA] = aparicoes\n            sql = f'INSERT INTO DISCIPLINA (ID_DISCIPLINA, DESCRICAO_DISCIPLINA, CARGA_HORARIA_DISCIPLINA, ID_CURSO_GRADUACAO) VALUES ({ID_DISCIPLINA}, \"{DESCRICAO_DISCIPLINA}\", {CARGA_HORARIA_DISCIPLINA},  {ID_CURSO_GRADUACAO})'\n            f.write(sql + \";\"+ \"\\n\")",
   "execution_count": null,
   "outputs": []
  },
  {
   "cell_type": "markdown",
   "source": "### CEP/ESTADO/CIDADE/BAIRRO/LOGRADOURO/ENDEREÇO",
   "metadata": {
    "cell_id": "b90794f964584a138911ec2f54fd9545",
    "tags": [],
    "deepnote_cell_type": "markdown",
    "deepnote_cell_height": 62
   }
  },
  {
   "cell_type": "code",
   "source": "# Read ceps.sql file as utf-8\n# keep only the first 3 columns\n# break second column on \"/\"\n# keep one in one hundred\nkeep_one_in = 1000\nwith open(\"INSERTS_FACULDADE_DOMINIOS/CEPS.txt\", \"w\", encoding=\"utf-8\") as f:\n    with open(\"ceps.txt\", \"r\", encoding=\"utf-8\") as ceps:\n        for i,line in enumerate(ceps):\n            if i % keep_one_in == 0:\n                line = line.split(\"\\t\")\n                # line = line[0:3]\n                cep = line[0].strip()[0:5] + '-' + line[0].strip()[0:3]\n                city_state = line[1].split(\"/\")\n                cidade = city_state[0].strip()[:40]\n                estado = city_state[1].strip()[0:2][:40]\n                bairro = line[2].strip()[:40]\n                if bairro == \"\":\n                    bairro = \"Sem Bairro\"\n                logradouro = line[3].strip()[:40]\n                if logradouro == \"\":\n                    logradouro = \"Sem Logradouro\"\n                line = cep +\";\"+ cidade +\";\"+ estado +\";\"+ bairro\n                line = line +\";\"+ logradouro\n                # line = line +\";\"+ str(random.choice(ID_TIPO_LOGRADOURO_LIST)) +\";\"+ logradouro\n                f.write(line + \"\\n\")",
   "metadata": {
    "cell_id": "43fbb9656a074e2d9b449bbb97792c58",
    "tags": [],
    "deepnote_cell_type": "code",
    "deepnote_cell_height": 498
   },
   "outputs": [],
   "execution_count": null
  },
  {
   "cell_type": "code",
   "source": "# Read \"INSERTS_FACULDADE_DOMINIOS/CEPS.txt\" file as utf-8\n# Create a list with all unique ESTADO, CIDADE, BAIRRO, LOGRADOURO\nwith open(\"INSERTS_FACULDADE_DOMINIOS/CEPS.txt\", \"r\", encoding=\"utf-8\") as f:\n    cidade_list = []\n    bairro_list = []\n    estado_list = []\n    logradouro_list = []\n    for i,line in enumerate(f):\n        line = line.split(\";\")\n        cidade_list.append(line[1].strip())\n        estado_list.append(line[2].strip())\n        bairro_list.append(line[3].strip())\n        logradouro_list.append(line[4].strip())\ncidade_list = list(set(cidade_list))\nbairro_list = list(set(bairro_list))\nestado_list = list(set(estado_list))\nlogradouro_list = list(set(logradouro_list))\ncidade_list.sort()\nbairro_list.sort()\nestado_list.sort()\nlogradouro_list.sort()\n\n# CREATE TXT FILE WITH ALL INSERTS COMMANDS FOR ESTADO\nwith open(\"INSERTS_FACULDADE_DOMINIOS/ESTADO.sql\", \"w\", encoding=\"utf-8\") as f:\n    for i in range(len(estado_list)):\n        DESCRICAO_ESTADO = estado_list[i]\n        sql = f'INSERT INTO ESTADO (ID_ESTADO, DESCRICAO_ESTADO) VALUES ({i+1}, \"{DESCRICAO_ESTADO}\")'\n        f.write(sql + \";\"+ \"\\n\")\n\n# CREATE TXT FILE WITH ALL INSERTS COMMANDS FOR CIDADE\nwith open(\"INSERTS_FACULDADE_DOMINIOS/CIDADE.sql\", \"w\", encoding=\"utf-8\") as f:\n    for i in range(len(cidade_list)):\n        DESCRICAO_CIDADE = cidade_list[i]\n        sql = f'INSERT INTO CIDADE (ID_CIDADE, DESCRICAO_CIDADE) VALUES ({i+1}, \"{DESCRICAO_CIDADE}\")'\n        f.write(sql + \";\"+ \"\\n\")\n\n# CREATE TXT FILE WITH ALL INSERTS COMMANDS FOR BAIRRO\nwith open(\"INSERTS_FACULDADE_DOMINIOS/BAIRRO.sql\", \"w\", encoding=\"utf-8\") as f:\n    for i in range(len(bairro_list)):\n        DESCRICAO_BAIRRO = bairro_list[i]\n        sql = f'INSERT INTO BAIRRO (ID_BAIRRO, DESCRICAO_BAIRRO) VALUES ({i+1}, \"{DESCRICAO_BAIRRO}\")'\n        f.write(sql + \";\"+ \"\\n\")\n\n# CREATE TXT FILE WITH ALL INSERTS COMMANDS FOR LOGRADOURO\nwith open(\"INSERTS_FACULDADE_DOMINIOS/LOGRADOURO.sql\", \"w\", encoding=\"utf-8\") as f:\n    for i in range(len(logradouro_list)):\n        DESCRICAO_LOGRADOURO = logradouro_list[i]\n        sql = f'INSERT INTO LOGRADOURO (ID_LOGRADOURO, DESCRICAO_LOGRADOURO) VALUES ({i+1}, \"{DESCRICAO_LOGRADOURO}\")'\n        f.write(sql + \";\"+ \"\\n\")\n\ncep_list = []\n# Read \"INSERTS_FACULDADE_DOMINIOS/CEPS.txt\" file as utf-8\nwith open(\"INSERTS_FACULDADE_DOMINIOS/CEPS.txt\", \"r\", encoding=\"utf-8\") as f:\n    with open(\"INSERTS_FACULDADE_DOMINIOS/CEP.sql\", \"w\", encoding=\"utf-8\") as f_cep:\n        for line in f:\n            line = line.split(\";\")\n            cep = line[0].strip()\n            cep_list.append(cep)\n            cidade = line[1].strip()\n            estado = line[2].strip()\n            bairro = line[3].strip()\n            logradouro = line[4].strip()\n            ID_CIDADE = cidade_list.index(cidade) + 1\n            ID_BAIRRO = bairro_list.index(bairro) + 1\n            ID_ESTADO = estado_list.index(estado) + 1\n            ID_LOGRADOURO = logradouro_list.index(logradouro) + 1\n            sql = f'INSERT INTO CEP (CEP, ID_CIDADE, ID_BAIRRO, ID_ESTADO, ID_LOGRADOURO) VALUES ({cep}, {ID_CIDADE}, {ID_BAIRRO}, {ID_ESTADO}, {ID_LOGRADOURO})'\n            f_cep.write(sql + \";\"+ \"\\n\")",
   "metadata": {
    "cell_id": "296905d5fd6c4d3cad99c8be6998029c",
    "tags": [],
    "deepnote_cell_type": "code",
    "deepnote_cell_height": 1272
   },
   "outputs": [],
   "execution_count": null
  },
  {
   "cell_type": "code",
   "source": "# CREATE TXT FILE WITH ALL INSERTS COMMANDS FOR ENDERECO\ndef get_random_cep():\n    return random.choice(cep_list)\n\nn_enderecos = 1500\nwith open(\"INSERTS_FACULDADE_DOMINIOS/ENDERECO.sql\", \"w\", encoding=\"utf-8\") as f:\n    for i in range(n_enderecos):\n        ID_ENDERECO = i+1\n        NUMERO_ENDERECO = random.randint(1, 300)\n        COMPLEMENTO_ENDERECO = f'Apartamento {random.randint(1, 3000)}'\n        CEP = get_random_cep()\n        sql = f'INSERT INTO ENDERECO (ID_ENDERECO, NUMERO_ENDERECO, COMPLEMENTO_ENDERECO, CEP) VALUES ({ID_ENDERECO}, {NUMERO_ENDERECO}, \"{COMPLEMENTO_ENDERECO}\", {CEP})'\n        f.write(sql + \";\"+ \"\\n\")",
   "metadata": {
    "cell_id": "923753d5cdb74164821a33bc4718c8fa",
    "tags": [],
    "deepnote_cell_type": "code",
    "deepnote_cell_height": 282
   },
   "outputs": [],
   "execution_count": null
  },
  {
   "cell_type": "markdown",
   "source": "### PESSOA/ALUNO/FUNCIONARIO/PROFESSOR/ADMINISTRATIVO\n### TURMA/AULA/INSCRIÇÃO/AVALIAÇÃO",
   "metadata": {
    "cell_id": "44fd3509cbe444e78e8e9d449dc130b6",
    "tags": [],
    "deepnote_cell_type": "markdown",
    "deepnote_cell_height": 114
   }
  },
  {
   "cell_type": "code",
   "metadata": {
    "cell_id": "82414369437b4620a5c57601fa28ef00",
    "tags": [],
    "deepnote_cell_type": "code",
    "deepnote_cell_height": 228
   },
   "source": "# CONSTANTES DA GERAÇÃO\n\nCONST_MAX = 500\nMATERIA_MAX = 288\nTURNO_MAX = 4\nSEMESTRE_MAX = 2\nANO_MIN = 2000\nANO_MAX = 2021\nCEP_MAX = 733\nGRADUACOES_MAX=4*6",
   "execution_count": null,
   "outputs": []
  },
  {
   "cell_type": "code",
   "metadata": {
    "cell_id": "3f8bd99e7338468e85fb3eda678a3e55",
    "tags": [],
    "deepnote_cell_type": "code",
    "deepnote_cell_height": 210
   },
   "source": "import random\n\ndef random_date(inicio, fim):\n    year = random.randint(inicio, fim)\n    month = random.randint(1, 12)\n    day = random.randint(1, 28)\n    return f\"{year:02d}-{month:02d}-{day:02d}\"\n\nrandom_date(1989, 2010)",
   "execution_count": null,
   "outputs": []
  },
  {
   "cell_type": "code",
   "metadata": {
    "cell_id": "1d1d832ec69845e78dcc15f494fcad96",
    "tags": [],
    "deepnote_cell_type": "code",
    "deepnote_cell_height": 336
   },
   "source": "# MODELOS DE INSERÇÃO\n\"\"\"\nINSERT INTO ENDERECO (ID_ENDERECO, NUMERO_ENDERECO, COMPLEMENTO_ENDERECO, CEP) VALUES (NULL, NULL, NULL, NULL);\nINSERT INTO PESSOA (CPF, NOME_COMPLETO, DATA_NASCIMENTO, TELEFONE, EMAIL, ID_ENDERECO) VALUES (NULL, NULL, NULL, NULL, NULL, NULL);\nINSERT INTO FUNCIONARIO (MATRICULA_FUNCIONARIO, DATA_ADMISSAO, DATA_DEMISSAO, ID_STATUS, ID_DEPARTAMENTO, CPF) VALUES (NULL, NULL, NULL, NULL, NULL, NULL);\nINSERT INTO PROFESSOR (MATRICULA_PROFESSOR, MATRICULA_FUNCIONARIO, ID_TITULACAO) VALUES (NULL, NULL, NULL);\nINSERT INTO ADMINISTRATIVO (MATRICULA_ADM, MATRICULA_FUNCIONARIO, ID_SETOR) VALUES (NULL, NULL, NULL);\nINSERT INTO ALUNO (MATRICULA_ALUNO, NOME_MAE, NOME_PAI, ANO_ENTRADA, SEMESTRE_ENTRADA, QTD_PERIODO_CURSADO, ID_STATUS, CPF, ID_CURSO_GRADUACAO) VALUES (NULL, NULL, NULL, NULL, NULL, NULL, NULL, NULL, NULL);\nINSERT INTO ALUNO_AULA_XREF (ID_AULA, MATRICULA_ALUNO, PRESENCA) VALUES (NULL, NULL, NULL);\nINSERT INTO AULA (ID_AULA, DATA_AULA, ID_TURMA, ID_TURNO) VALUES (NULL, NULL, NULL, NULL);\nINSERT INTO TURMA (ID_TURMA, ANO_TURMA, SEMESTRE_TURMA, ID_DISCIPLINA, MATRICULA_PROFESSOR) VALUES (NULL, NULL, NULL, NULL, NULL);\nINSERT INTO INSCRICAO (ID_INSCRICAO, ID_TURMA, MATRICULA_ALUNO, NOTA_FINAL, RESULTADO) VALUES (NULL, NULL, NULL, NULL, NULL);\nINSERT INTO AVALIACAO_INSCRICAO_XREF (ID_AVALIACAO, ID_INSCRICAO, NOTA_AVALIACAO) VALUES (NULL, NULL, NULL);\nINSERT INTO AVALIACAO (ID_AVALIACAO, ID_TIPO_AVALIACAO, PESO_AVALIACAO) VALUES (NULL, NULL, NULL);\n\n\"\"\"",
   "execution_count": null,
   "outputs": []
  },
  {
   "cell_type": "code",
   "metadata": {
    "cell_id": "f98115bd220243e69199a95a1e268d00",
    "tags": [],
    "deepnote_cell_type": "code",
    "deepnote_cell_height": 4314
   },
   "source": "#1 - ENDERECO\n\ndef gerarEndereco():\n    output = []\n    for i in range(CONST_MAX*3):\n        numero_endereco = random.randint(1, 300)\n        complemento_endereco = f'Apartamento {random.randint(1, 3000)}'\n        output.append(f'INSERT INTO ENDERECO (NUMERO_ENDERECO, COMPLEMENTO_ENDERECO, CEP) VALUES ({numero_endereco}, \"{complemento_endereco}\", (SELECT CEP FROM CEP ORDER BY RAND() LIMIT 1));')\n    return output\n\n# CRIAR ARQUIVO SQL COM O OUTPUT DA FUNÇÃO ACIMA\n\nwith open(\"INSERTS_FACULDADE_DOMINIOS/DML_MASSA.SQL\", \"w\", encoding=\"utf-8\") as f:\n    for i in gerarEndereco():\n        f.write(i + \"\\n\")\n\n#2 - PESSOA\n\ndef gerarEmail(nome_completo):\n    nome_completo = nome_completo.split(\" \")\n    email = nome_completo[0] + \".\" + nome_completo[1] + \"@contratados.com\"\n    return email\n\nwith open(\"nomes.txt\", \"r\", encoding=\"utf-8\") as f:\n    nome_list = []\n    for line in f:\n        nome_list.append(line.strip())\n\nwith open(\"sobrenomes.txt\", \"r\", encoding=\"utf-8\") as f:\n    sobrenome_list = []\n    for line in f:\n        sobrenome_list.append(line.strip())\n\ncpf_list = random.sample(range(10000000000, 89999999999), CONST_MAX * 3)\n\n\ndef gerarPessoa():\n    output = []\n    for i in range(CONST_MAX * 3):\n        CPF = cpf_list[i]\n        NOME_COMPLETO = f'{random.choice(nome_list)} {random.choice(sobrenome_list)} {random.choice(sobrenome_list)}'\n        DATA_NASCIMENTO = random_date(1960, 2000)\n        EMAIL = gerarEmail(NOME_COMPLETO)\n        ID_ENDERECO = i+1\n        # Sem telefone por enquanto\n        output.append(f'INSERT INTO PESSOA (CPF, NOME_COMPLETO, DATA_NASCIMENTO, EMAIL, ID_ENDERECO) VALUES ({CPF}, \"{NOME_COMPLETO}\", \"{DATA_NASCIMENTO}\", \"{EMAIL}\", {ID_ENDERECO});')\n    return output   \n\n# APPEND NO ARQUIVO SQL COM O OUTPUT DA FUNÇÃO ACIMA\n\nwith open('INSERTS_FACULDADE_DOMINIOS/DML_MASSA.SQL', 'a', encoding=\"utf-8\") as f:\n     for i in gerarPessoa():\n        f.write(i + \"\\n\")\n\n\n#3 - ALUNO\n\ndef gerarAluno():\n    output = []\n    for i in range(CONST_MAX):\n            NOME_MAE = f'{random.choice(nome_list)} {random.choice(sobrenome_list)} {random.choice(sobrenome_list)}'\n            NOME_PAI = f'{random.choice(nome_list)} {random.choice(sobrenome_list)} {random.choice(sobrenome_list)}'\n            ANO_ENTRADA = random.randint(ANO_MIN, ANO_MAX)\n            SEMESTRE_ENTRADA = random.randint(1, 2)\n            QTD_PERIODO_CURSADO = random.randint(1, 10)\n            ID_STATUS = random.randint(1, 4)\n            CPF = cpf_list.pop()\n            output.append(f'INSERT INTO ALUNO (NOME_MAE, NOME_PAI, ANO_ENTRADA, SEMESTRE_ENTRADA, QTD_PERIODO_CURSADO, ID_STATUS, CPF, ID_CURSO_GRADUACAO) VALUES (\"{NOME_MAE}\", \"{NOME_PAI}\", {ANO_ENTRADA}, {SEMESTRE_ENTRADA}, {QTD_PERIODO_CURSADO}, {ID_STATUS}, {CPF}, (SELECT COUNT(*) FROM CURSO_GRADUACAO ORDER BY RAND() LIMIT 1));')\n    return output\n\n# APPEND NO ARQUIVO SQL COM O OUTPUT DA FUNÇÃO ACIMA\n\nwith open('INSERTS_FACULDADE_DOMINIOS/DML_MASSA.SQL', 'a', encoding=\"utf-8\") as f:\n     for i in gerarAluno():\n        f.write(i + \"\\n\")\n\n\n#4 - FUNCIONARIO\n\nn_funcionarios = len(cpf_list)\n\ndef gerarFuncionario():\n    output = []\n    for i in range(n_funcionarios):\n        DATA_ADMISSAO = random_date(ANO_MIN, ANO_MAX)\n        ID_STATUS = random.randint(1, 4)\n        CPF = cpf_list.pop()\n        output.append(f'INSERT INTO FUNCIONARIO (DATA_ADMISSAO, ID_STATUS, ID_DEPARTAMENTO, CPF) VALUES (\"{DATA_ADMISSAO}\", {ID_STATUS}, (SELECT COUNT(*) FROM DEPARTAMENTO ORDER BY RAND() LIMIT 1), {CPF});')\n    return output\n\n# APPEND NO ARQUIVO SQL COM O OUTPUT DA FUNÇÃO ACIMA\n\nwith open('INSERTS_FACULDADE_DOMINIOS/DML_MASSA.SQL', 'a', encoding=\"utf-8\") as f:\n     for i in gerarFuncionario():\n        f.write(i + \"\\n\")\n\n\n\n#5 - PROFESSOR\n\nid_funcionario_list = list(range(1, n_funcionarios+1))\nn_professores = int(n_funcionarios/2)\n\ndef gerarProfessor():\n    output = []\n    for i in range(n_professores):\n        MATRICULA_FUNCIONARIO = id_funcionario_list.pop()\n        ID_TITULACAO = random.randint(1, 4)\n        output.append(f'INSERT INTO PROFESSOR (MATRICULA_FUNCIONARIO, ID_TITULACAO) VALUES ({MATRICULA_FUNCIONARIO}, {ID_TITULACAO});')\n    return output\n\n# APPEND NO ARQUIVO SQL COM O OUTPUT DA FUNÇÃO ACIMA\n\nwith open('INSERTS_FACULDADE_DOMINIOS/DML_MASSA.SQL', 'a', encoding=\"utf-8\") as f:\n     for i in gerarProfessor():\n        f.write(i + \"\\n\")\n\n\n#6 - ADMINISTRATIVO\n\ndef gerarAdministrativo():\n    output = []\n    for i in id_funcionario_list:\n            MATRICULA_FUNCIONARIO = i\n            ID_SETOR = random.randint(1, 4)\n            output.append(f'INSERT INTO ADMINISTRATIVO (MATRICULA_FUNCIONARIO, ID_SETOR) VALUES ({MATRICULA_FUNCIONARIO}, {ID_SETOR});')\n    return output\n\n# APPEND NO ARQUIVO SQL COM O OUTPUT DA FUNÇÃO ACIMA\n\nwith open('INSERTS_FACULDADE_DOMINIOS/DML_MASSA.SQL', 'a', encoding=\"utf-8\") as f:\n     for i in gerarAdministrativo():\n        f.write(i + \"\\n\")\n\n\n\n# 7 e 8 - TURMA / ALUNO\n\ndef gerarTurmaAula():\n    id_turma = 1\n    output = []\n    for _ in range(CONST_MAX):\n        id_disciplina = random.randint(1, MATERIA_MAX)\n        matricula_prof = random.randint(1, CONST_MAX)\n        ano_turma_aula = random.randint(ANO_MIN, ANO_MAX)\n        semestre_turma = random.randint(1, SEMESTRE_MAX)\n        if (semestre_turma == 1):\n            mes_aula = random.randint(1, 6)\n        else:\n            mes_aula = random.randint(7, 12)\n        dia_aula= random.randint(1, 28)\n        turno = 1\n\n        output.append(f'INSERT INTO TURMA(ANO_TURMA, SEMESTRE_TURMA, ID_DISCIPLINA, MATRICULA_PROFESSOR) VALUES({ano_turma_aula}, {semestre_turma}, {id_disciplina}, {matricula_prof});') \n        for _ in range (1,4):\n            output.append(f'INSERT INTO AULA (DATA_AULA, ID_TURMA, ID_TURNO) VALUES(\"{ano_turma_aula:02d}-{mes_aula:02d}-{dia_aula:02d}\", {id_turma}, {turno});')\n            turno += 1\n        id_turma += 1\n    return output\n\n# APPEND NO ARQUIVO SQL COM O OUTPUT DA FUNÇÃO ACIMA\n\nwith open('INSERTS_FACULDADE_DOMINIOS/DML_MASSA.SQL', 'a', encoding=\"utf-8\") as f:\n  for i in gerarTurmaAula():\n    f.write(i + \"\\n\")\n\n\n\n#11 - INSCRIÇÃO\n\ndef gerarInscricao():\n    output = []\n    for _ in range(CONST_MAX):\n        id_turma = random.randint(1, CONST_MAX)\n        matricula_aluno = random.randint(1, CONST_MAX)\n        output.append(f'INSERT INTO INSCRICAO(ID_TURMA, MATRICULA_ALUNO) VALUES({id_turma}, {matricula_aluno});')\n    return output\n\n# APPEND NO ARQUIVO SQL COM O OUTPUT DA FUNÇÃO ACIMA\n\nwith open('INSERTS_FACULDADE_DOMINIOS/DML_MASSA.SQL', 'a', encoding=\"utf-8\") as f:\n    for i in gerarInscricao():\n        f.write(i + \"\\n\")\n\n\n\n#9 - ALUNO_AULA\n\ndef gerarAlunoAula():\n    id_aula = 1\n    output = []\n    for _ in range(int(CONST_MAX/20)):\n        presenca = random.randint(0, 1)\n        for _ in range(20):\n            output.append(f'INSERT INTO ALUNO_AULA_XREF(ID_AULA, MATRICULA_ALUNO, PRESENCA) VALUES({id_aula}, (SELECT MATRICULA_ALUNO FROM INSCRICAO INNER JOIN TURMA ON INSCRICAO.ID_TURMA=TURMA.ID_TURMA INNER JOIN AULA ON TURMA.ID_TURMA=AULA.ID_TURMA WHERE AULA.ID_TURMA=INSCRICAO.ID_TURMA LIMIT 1), {presenca});')\n            id_aula += 1\n    return output\n\n# APPEND NO ARQUIVO SQL COM O OUTPUT DA FUNÇÃO ACIMA\n\nwith open('INSERTS_FACULDADE_DOMINIOS/DML_MASSA.SQL', 'a', encoding=\"utf-8\") as f:\n  for i in gerarAlunoAula():\n    f.write(i + \"\\n\")\n\n#10 - AVALIACAÇÃO\n\ndef gerarAvaliacao():\n    output = []\n    for _ in range(CONST_MAX):\n        tipo_avaliacao = random.randint(1, 5)\n        peso_avaliacao = int(random.randrange(10, 100, 10))\n        output.append(f'INSERT INTO AVALIACAO(ID_TIPO_AVALIACAO, PESO_AVALIACAO) VALUES({tipo_avaliacao}, {peso_avaliacao});')\n    return output\n\n# APPEND NO ARQUIVO SQL COM O OUTPUT DA FUNÇÃO ACIMA\n\nwith open('INSERTS_FACULDADE_DOMINIOS/DML_MASSA.SQL', 'a', encoding=\"utf-8\") as f:\n  for i in gerarAvaliacao():\n    f.write(i + \"\\n\")\n\n\n#12 - AVALIACAO_INSCRICAO_XREF\n\ndef gerarAvaliacaoInscricao():\n    output = []\n    for _ in range(CONST_MAX):\n        id_avaliacao = random.randint(1, CONST_MAX)\n        id_inscricao = random.randint(1, CONST_MAX)\n        nota = random.randint(0, 10)\n        output.append(f'INSERT INTO AVALIACAO_INSCRICAO_XREF(ID_AVALIACAO, ID_INSCRICAO, NOTA_AVALIACAO) VALUES({id_avaliacao}, {id_inscricao}, {nota});')\n    return output\n\n# APPEND NO ARQUIVO SQL COM O OUTPUT DA FUNÇÃO ACIMA\n\nwith open('INSERTS_FACULDADE_DOMINIOS/DML_MASSA.SQL', 'a', encoding=\"utf-8\") as f:\n     for i in gerarAvaliacaoInscricao():\n        f.write(i + \"\\n\")",
   "execution_count": null,
   "outputs": []
  },
  {
   "cell_type": "markdown",
   "source": "<a style='text-decoration:none;line-height:16px;display:flex;color:#5B5B62;padding:10px;justify-content:end;' href='https://deepnote.com?utm_source=created-in-deepnote-cell&projectId=7ff377c0-9554-42fc-ad1d-8703819b6ad1' target=\"_blank\">\n<img alt='Created in deepnote.com' style='display:inline;max-height:16px;margin:0px;margin-right:7.5px;' src='data:image/svg+xml;base64,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' > </img>\nCreated in <span style='font-weight:600;margin-left:4px;'>Deepnote</span></a>",
   "metadata": {
    "tags": [],
    "created_in_deepnote_cell": true,
    "deepnote_cell_type": "markdown"
   }
  }
 ],
 "nbformat": 4,
 "nbformat_minor": 0,
 "metadata": {
  "kernelspec": {
   "display_name": "Python 3",
   "language": "python",
   "name": "python3"
  },
  "language_info": {
   "codemirror_mode": {
    "name": "ipython",
    "version": 2
   },
   "file_extension": ".py",
   "mimetype": "text/x-python",
   "name": "python",
   "nbconvert_exporter": "python",
   "pygments_lexer": "ipython2",
   "version": "2.7.6"
  },
  "deepnote_notebook_id": "2a623ecf-5bec-46ad-95e8-496e8ce11d14",
  "deepnote": {},
  "deepnote_execution_queue": []
 }
}